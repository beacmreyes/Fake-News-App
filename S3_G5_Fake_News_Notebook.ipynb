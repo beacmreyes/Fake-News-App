{
 "cells": [
  {
   "cell_type": "code",
   "execution_count": 1,
   "id": "j81HcVvArztE",
   "metadata": {
    "colab": {
     "base_uri": "https://localhost:8080/"
    },
    "executionInfo": {
     "elapsed": 26971,
     "status": "ok",
     "timestamp": 1719484863676,
     "user": {
      "displayName": "Bea Carina Mae Reyes",
      "userId": "05152541789176508807"
     },
     "user_tz": -480
    },
    "id": "j81HcVvArztE",
    "outputId": "a973b5a7-a3ce-48da-a903-1abf4d0cf600"
   },
   "outputs": [
    {
     "name": "stdout",
     "output_type": "stream",
     "text": [
      "Requirement already satisfied: unidecode in c:\\users\\beacm\\anaconda3\\lib\\site-packages (1.2.0)\n"
     ]
    }
   ],
   "source": [
    "!pip install unidecode"
   ]
  },
  {
   "cell_type": "code",
   "execution_count": 2,
   "id": "03c778cd-ef90-4ce6-bf2c-051704c84e63",
   "metadata": {
    "executionInfo": {
     "elapsed": 904,
     "status": "ok",
     "timestamp": 1719484864575,
     "user": {
      "displayName": "Bea Carina Mae Reyes",
      "userId": "05152541789176508807"
     },
     "user_tz": -480
    },
    "id": "03c778cd-ef90-4ce6-bf2c-051704c84e63"
   },
   "outputs": [],
   "source": [
    "import pandas as pd\n",
    "from bs4 import BeautifulSoup\n",
    "from unidecode import unidecode\n",
    "import re\n",
    "import warnings\n",
    "warnings.filterwarnings('ignore')"
   ]
  },
  {
   "cell_type": "code",
   "execution_count": 3,
   "id": "j0pvFTQXq83h",
   "metadata": {
    "colab": {
     "base_uri": "https://localhost:8080/"
    },
    "executionInfo": {
     "elapsed": 24040,
     "status": "ok",
     "timestamp": 1719484888609,
     "user": {
      "displayName": "Bea Carina Mae Reyes",
      "userId": "05152541789176508807"
     },
     "user_tz": -480
    },
    "id": "j0pvFTQXq83h",
    "outputId": "6a02ee0c-2b65-44bc-f205-d4b1f75e5f4c"
   },
   "outputs": [
    {
     "ename": "ModuleNotFoundError",
     "evalue": "No module named 'google.colab'",
     "output_type": "error",
     "traceback": [
      "\u001b[1;31m---------------------------------------------------------------------------\u001b[0m",
      "\u001b[1;31mModuleNotFoundError\u001b[0m                       Traceback (most recent call last)",
      "Cell \u001b[1;32mIn[3], line 1\u001b[0m\n\u001b[1;32m----> 1\u001b[0m \u001b[38;5;28;01mfrom\u001b[39;00m \u001b[38;5;21;01mgoogle\u001b[39;00m\u001b[38;5;21;01m.\u001b[39;00m\u001b[38;5;21;01mcolab\u001b[39;00m \u001b[38;5;28;01mimport\u001b[39;00m drive\n\u001b[0;32m      2\u001b[0m drive\u001b[38;5;241m.\u001b[39mmount(\u001b[38;5;124m'\u001b[39m\u001b[38;5;124m/content/drive\u001b[39m\u001b[38;5;124m'\u001b[39m)\n\u001b[0;32m      3\u001b[0m \u001b[38;5;28;01mimport\u001b[39;00m \u001b[38;5;21;01mos\u001b[39;00m\n",
      "\u001b[1;31mModuleNotFoundError\u001b[0m: No module named 'google.colab'"
     ]
    }
   ],
   "source": [
    "# from google.colab import drive\n",
    "# drive.mount('/content/drive')\n",
    "# import os\n",
    "# os.chdir('/content/drive/MyDrive/my_workspace/Sprint 3/Fake_News')"
   ]
  },
  {
   "cell_type": "code",
   "execution_count": 4,
   "id": "304ed55f-e848-4e3a-8c4b-d16b50b76c6f",
   "metadata": {
    "executionInfo": {
     "elapsed": 6,
     "status": "ok",
     "timestamp": 1719484888609,
     "user": {
      "displayName": "Bea Carina Mae Reyes",
      "userId": "05152541789176508807"
     },
     "user_tz": -480
    },
    "id": "304ed55f-e848-4e3a-8c4b-d16b50b76c6f"
   },
   "outputs": [],
   "source": [
    "# ## Set your OpenAI API key\n",
    "# api_key = open('openaiapikey.txt').read()\n",
    "# SKLLMConfig.set_openai_key(api_key)"
   ]
  },
  {
   "cell_type": "code",
   "execution_count": null,
   "id": "NHwnE5WErlRf",
   "metadata": {
    "colab": {
     "base_uri": "https://localhost:8080/",
     "height": 206
    },
    "executionInfo": {
     "elapsed": 5800,
     "status": "ok",
     "timestamp": 1719484894405,
     "user": {
      "displayName": "Bea Carina Mae Reyes",
      "userId": "05152541789176508807"
     },
     "user_tz": -480
    },
    "id": "NHwnE5WErlRf",
    "outputId": "641def1d-dad2-4523-cb22-c2cdf2877a13"
   },
   "outputs": [],
   "source": [
    "df = pd.read_csv(\"data/Philippine Fake News Corpus.csv\")\n",
    "df.head()"
   ]
  },
  {
   "cell_type": "code",
   "execution_count": 6,
   "id": "DMEtVSd0SVDs",
   "metadata": {
    "colab": {
     "base_uri": "https://localhost:8080/"
    },
    "executionInfo": {
     "elapsed": 303,
     "status": "ok",
     "timestamp": 1719484899063,
     "user": {
      "displayName": "Bea Carina Mae Reyes",
      "userId": "05152541789176508807"
     },
     "user_tz": -480
    },
    "id": "DMEtVSd0SVDs",
    "outputId": "7b6271b0-b1d2-442a-ff92-e53df9471355"
   },
   "outputs": [
    {
     "name": "stdout",
     "output_type": "stream",
     "text": [
      "1968-07-03 00:00:00\n",
      "2018-11-16 00:00:00\n"
     ]
    }
   ],
   "source": [
    "df['Date'] = df['Date'].str[0:10]\n",
    "df['Date'] = pd.to_datetime(df['Date'], format = '%Y-%m-%d', errors = 'coerce')\n",
    "df.rename(columns={'Brand': 'Source'}, inplace=True)\n",
    "\n",
    "print(df['Date'].min())\n",
    "print(df['Date'].max())"
   ]
  },
  {
   "cell_type": "code",
   "execution_count": 7,
   "id": "570a83d0-45c8-4862-aa18-8af19d3b1f7e",
   "metadata": {
    "executionInfo": {
     "elapsed": 331,
     "status": "ok",
     "timestamp": 1719484921763,
     "user": {
      "displayName": "Bea Carina Mae Reyes",
      "userId": "05152541789176508807"
     },
     "user_tz": -480
    },
    "id": "570a83d0-45c8-4862-aa18-8af19d3b1f7e"
   },
   "outputs": [],
   "source": [
    "start_date = pd.to_datetime('2018-01-01')\n",
    "end_date = pd.to_datetime('2018-12-31')\n",
    "df_subset = df[df['Date'].notnull()]\n",
    "df_subset = df_subset[(df_subset['Date']>=start_date) & (df_subset['Date']<=end_date) ]\n",
    "df_subset.reset_index(drop=True, inplace=True)\n"
   ]
  },
  {
   "cell_type": "code",
   "execution_count": 8,
   "id": "d2c21309-9162-4961-933f-74f4a89413db",
   "metadata": {
    "colab": {
     "base_uri": "https://localhost:8080/",
     "height": 655
    },
    "executionInfo": {
     "elapsed": 343,
     "status": "ok",
     "timestamp": 1719484955255,
     "user": {
      "displayName": "Bea Carina Mae Reyes",
      "userId": "05152541789176508807"
     },
     "user_tz": -480
    },
    "id": "d2c21309-9162-4961-933f-74f4a89413db",
    "outputId": "40fafae0-1feb-49ad-8b21-d95fbfeab742"
   },
   "outputs": [
    {
     "name": "stdout",
     "output_type": "stream",
     "text": [
      "<class 'pandas.core.frame.DataFrame'>\n",
      "RangeIndex: 4640 entries, 0 to 4639\n",
      "Data columns (total 7 columns):\n",
      " #   Column    Non-Null Count  Dtype         \n",
      "---  ------    --------------  -----         \n",
      " 0   Headline  4640 non-null   object        \n",
      " 1   Content   4640 non-null   object        \n",
      " 2   Authors   4640 non-null   object        \n",
      " 3   Date      4640 non-null   datetime64[ns]\n",
      " 4   URL       4640 non-null   object        \n",
      " 5   Source    4640 non-null   object        \n",
      " 6   Label     4640 non-null   object        \n",
      "dtypes: datetime64[ns](1), object(6)\n",
      "memory usage: 253.9+ KB\n"
     ]
    },
    {
     "data": {
      "text/plain": [
       "None"
      ]
     },
     "metadata": {},
     "output_type": "display_data"
    },
    {
     "data": {
      "text/plain": [
       "Headline    4640\n",
       "Content     4640\n",
       "Authors       66\n",
       "Date         320\n",
       "URL         4640\n",
       "Source         6\n",
       "Label          2\n",
       "dtype: int64"
      ]
     },
     "metadata": {},
     "output_type": "display_data"
    },
    {
     "data": {
      "text/plain": [
       "Label\n",
       "Credible        2967\n",
       "Not Credible    1673\n",
       "Name: count, dtype: int64"
      ]
     },
     "metadata": {},
     "output_type": "display_data"
    },
    {
     "data": {
      "text/plain": [
       "Source\n",
       "Manila Bulletin             1664\n",
       "Adobo Chronicles            1333\n",
       "Manila Times                1303\n",
       "Pinoytrending Altervista     151\n",
       "Get Real Philippines         121\n",
       "Duterte Daily Stories         68\n",
       "Name: count, dtype: int64"
      ]
     },
     "metadata": {},
     "output_type": "display_data"
    }
   ],
   "source": [
    "display(df_subset.info())\n",
    "display(df_subset.nunique())\n",
    "display(df_subset['Label'].value_counts())\n",
    "display(df_subset['Source'].value_counts())"
   ]
  },
  {
   "cell_type": "code",
   "execution_count": 9,
   "id": "1c566e00-8f33-4671-8403-d96395cfa8e6",
   "metadata": {
    "executionInfo": {
     "elapsed": 7150,
     "status": "ok",
     "timestamp": 1719484986105,
     "user": {
      "displayName": "Bea Carina Mae Reyes",
      "userId": "05152541789176508807"
     },
     "user_tz": -480
    },
    "id": "1c566e00-8f33-4671-8403-d96395cfa8e6"
   },
   "outputs": [],
   "source": [
    "def preprocess_text(text):\n",
    "    if not isinstance(text, str):\n",
    "        return text\n",
    "\n",
    "    text = unidecode(text)\n",
    "\n",
    "    pattern = re.compile(r'[\\t\\n]|<.*?>|!function.*;|\\.igframe.*}')\n",
    "    text = pattern.sub(' ', text)\n",
    "    text = (\n",
    "        text\n",
    "        .replace('&#8217;', \"'\")\n",
    "        .replace('&#8220;', '\"')\n",
    "        .replace('&#8221;', '\"')\n",
    "    )\n",
    "\n",
    "    soup = BeautifulSoup(text, 'html.parser')\n",
    "    cleaned_text = soup.get_text()\n",
    "    return cleaned_text\n",
    "\n",
    "df_subset['Headline'] = df_subset['Headline'].apply(preprocess_text)\n",
    "df_subset['Content'] = df_subset['Content'].apply(preprocess_text)\n"
   ]
  },
  {
   "cell_type": "code",
   "execution_count": 11,
   "id": "0c72f19d-3469-47bb-8d34-388ce866ea42",
   "metadata": {
    "executionInfo": {
     "elapsed": 1323,
     "status": "ok",
     "timestamp": 1719485060593,
     "user": {
      "displayName": "Bea Carina Mae Reyes",
      "userId": "05152541789176508807"
     },
     "user_tz": -480
    },
    "id": "0c72f19d-3469-47bb-8d34-388ce866ea42"
   },
   "outputs": [],
   "source": [
    "df_subset.to_csv('data/Philippine Fake News Corpus - cleaned.csv', index = False)"
   ]
  },
  {
   "cell_type": "code",
   "execution_count": 6,
   "id": "263a5a88-548a-4502-85d8-8cd0b26aadd4",
   "metadata": {
    "colab": {
     "base_uri": "https://localhost:8080/",
     "height": 597
    },
    "executionInfo": {
     "elapsed": 448,
     "status": "ok",
     "timestamp": 1719485062155,
     "user": {
      "displayName": "Bea Carina Mae Reyes",
      "userId": "05152541789176508807"
     },
     "user_tz": -480
    },
    "id": "263a5a88-548a-4502-85d8-8cd0b26aadd4",
    "outputId": "1ce806f6-8e57-4701-c20c-dc6776ac9287"
   },
   "outputs": [
    {
     "data": {
      "text/html": [
       "<div>\n",
       "<style scoped>\n",
       "    .dataframe tbody tr th:only-of-type {\n",
       "        vertical-align: middle;\n",
       "    }\n",
       "\n",
       "    .dataframe tbody tr th {\n",
       "        vertical-align: top;\n",
       "    }\n",
       "\n",
       "    .dataframe thead th {\n",
       "        text-align: right;\n",
       "    }\n",
       "</style>\n",
       "<table border=\"1\" class=\"dataframe\">\n",
       "  <thead>\n",
       "    <tr style=\"text-align: right;\">\n",
       "      <th></th>\n",
       "      <th>Headline</th>\n",
       "      <th>Content</th>\n",
       "      <th>Authors</th>\n",
       "      <th>Date</th>\n",
       "      <th>URL</th>\n",
       "      <th>Source</th>\n",
       "      <th>Label</th>\n",
       "    </tr>\n",
       "  </thead>\n",
       "  <tbody>\n",
       "    <tr>\n",
       "      <th>0</th>\n",
       "      <td>Suicide bomber kills religious official in Afg...</td>\n",
       "      <td>A suicide bomber in the eastern Afghan city of...</td>\n",
       "      <td>[]</td>\n",
       "      <td>2018-03-07</td>\n",
       "      <td>https://news.mb.com.ph/2018/03/07/suicide-bomb...</td>\n",
       "      <td>Manila Bulletin</td>\n",
       "      <td>Credible</td>\n",
       "    </tr>\n",
       "    <tr>\n",
       "      <th>1</th>\n",
       "      <td>Duterte appeals to Marawi residents to help ke...</td>\n",
       "      <td>President Duterte has vowed adequate funds to ...</td>\n",
       "      <td>[]</td>\n",
       "      <td>2018-01-30</td>\n",
       "      <td>https://news.mb.com.ph/2018/01/30/duterte-appe...</td>\n",
       "      <td>Manila Bulletin</td>\n",
       "      <td>Credible</td>\n",
       "    </tr>\n",
       "    <tr>\n",
       "      <th>2</th>\n",
       "      <td>Hospitals blame PhilHealth anew</td>\n",
       "      <td>PRIVATE hospitals blamed the Philippine Health...</td>\n",
       "      <td>['Catherine A. Modesto']</td>\n",
       "      <td>2018-06-30</td>\n",
       "      <td>https://www.manilatimes.net/hospitals-blame-ph...</td>\n",
       "      <td>Manila Times</td>\n",
       "      <td>Credible</td>\n",
       "    </tr>\n",
       "    <tr>\n",
       "      <th>3</th>\n",
       "      <td>UN Palestinian refugee agency 'part of the pro...</td>\n",
       "      <td>PresseThe UN agency for Palestinian refugees i...</td>\n",
       "      <td>[]</td>\n",
       "      <td>2018-05-17</td>\n",
       "      <td>https://news.mb.com.ph/2018/05/17/un-palestini...</td>\n",
       "      <td>Manila Bulletin</td>\n",
       "      <td>Credible</td>\n",
       "    </tr>\n",
       "    <tr>\n",
       "      <th>4</th>\n",
       "      <td>Robredo turned over livelihood subsidies to ab...</td>\n",
       "      <td>Through Vice President Leni Robredo's Angat Bu...</td>\n",
       "      <td>[]</td>\n",
       "      <td>2018-03-09</td>\n",
       "      <td>https://news.mb.com.ph/2018/03/09/robredo-turn...</td>\n",
       "      <td>Manila Bulletin</td>\n",
       "      <td>Credible</td>\n",
       "    </tr>\n",
       "    <tr>\n",
       "      <th>...</th>\n",
       "      <td>...</td>\n",
       "      <td>...</td>\n",
       "      <td>...</td>\n",
       "      <td>...</td>\n",
       "      <td>...</td>\n",
       "      <td>...</td>\n",
       "      <td>...</td>\n",
       "    </tr>\n",
       "    <tr>\n",
       "      <th>4635</th>\n",
       "      <td>Plan to diversify elite NYC schools draws fire...</td>\n",
       "      <td>A plan to diversify New York City's most elite...</td>\n",
       "      <td>[]</td>\n",
       "      <td>2018-06-09</td>\n",
       "      <td>https://news.mb.com.ph/2018/06/09/plan-to-dive...</td>\n",
       "      <td>Manila Bulletin</td>\n",
       "      <td>Credible</td>\n",
       "    </tr>\n",
       "    <tr>\n",
       "      <th>4636</th>\n",
       "      <td>Tens of thousands protest in Spain over gang r...</td>\n",
       "      <td>PresseTens of thousands of people took to the ...</td>\n",
       "      <td>[]</td>\n",
       "      <td>2018-04-28</td>\n",
       "      <td>https://news.mb.com.ph/2018/04/28/tens-of-thou...</td>\n",
       "      <td>Manila Bulletin</td>\n",
       "      <td>Credible</td>\n",
       "    </tr>\n",
       "    <tr>\n",
       "      <th>4637</th>\n",
       "      <td>'Luis' exits but monsoon rains to continue</td>\n",
       "      <td>Tropical depression Luis blew out of the count...</td>\n",
       "      <td>['Divina Nova Joy Dela Cruz']</td>\n",
       "      <td>2018-08-25</td>\n",
       "      <td>https://www.manilatimes.net/luis-exits-but-mon...</td>\n",
       "      <td>Manila Times</td>\n",
       "      <td>Credible</td>\n",
       "    </tr>\n",
       "    <tr>\n",
       "      <th>4638</th>\n",
       "      <td>28,000 families affected by floods receive aid</td>\n",
       "      <td>A TOTAL of 132,259 individuals from 28,101 fam...</td>\n",
       "      <td>['Mary Gleefer F. Jalea']</td>\n",
       "      <td>2018-08-15</td>\n",
       "      <td>https://www.manilatimes.net/28000-families-aff...</td>\n",
       "      <td>Manila Times</td>\n",
       "      <td>Credible</td>\n",
       "    </tr>\n",
       "    <tr>\n",
       "      <th>4639</th>\n",
       "      <td>UNITED AIRLINES WILL OFFER 'ECONOMY MINUS' SEA...</td>\n",
       "      <td>for half the airfare.UNITED Airlines (UAL) sta...</td>\n",
       "      <td>['Pol Pinoy']</td>\n",
       "      <td>2018-01-05</td>\n",
       "      <td>https://adobochronicles.com/2015/01/05/united-...</td>\n",
       "      <td>Adobo Chronicles</td>\n",
       "      <td>Not Credible</td>\n",
       "    </tr>\n",
       "  </tbody>\n",
       "</table>\n",
       "<p>4640 rows × 7 columns</p>\n",
       "</div>"
      ],
      "text/plain": [
       "                                               Headline  \\\n",
       "0     Suicide bomber kills religious official in Afg...   \n",
       "1     Duterte appeals to Marawi residents to help ke...   \n",
       "2                       Hospitals blame PhilHealth anew   \n",
       "3     UN Palestinian refugee agency 'part of the pro...   \n",
       "4     Robredo turned over livelihood subsidies to ab...   \n",
       "...                                                 ...   \n",
       "4635  Plan to diversify elite NYC schools draws fire...   \n",
       "4636  Tens of thousands protest in Spain over gang r...   \n",
       "4637         'Luis' exits but monsoon rains to continue   \n",
       "4638     28,000 families affected by floods receive aid   \n",
       "4639  UNITED AIRLINES WILL OFFER 'ECONOMY MINUS' SEA...   \n",
       "\n",
       "                                                Content  \\\n",
       "0     A suicide bomber in the eastern Afghan city of...   \n",
       "1     President Duterte has vowed adequate funds to ...   \n",
       "2     PRIVATE hospitals blamed the Philippine Health...   \n",
       "3     PresseThe UN agency for Palestinian refugees i...   \n",
       "4     Through Vice President Leni Robredo's Angat Bu...   \n",
       "...                                                 ...   \n",
       "4635  A plan to diversify New York City's most elite...   \n",
       "4636  PresseTens of thousands of people took to the ...   \n",
       "4637  Tropical depression Luis blew out of the count...   \n",
       "4638  A TOTAL of 132,259 individuals from 28,101 fam...   \n",
       "4639  for half the airfare.UNITED Airlines (UAL) sta...   \n",
       "\n",
       "                            Authors        Date  \\\n",
       "0                                []  2018-03-07   \n",
       "1                                []  2018-01-30   \n",
       "2          ['Catherine A. Modesto']  2018-06-30   \n",
       "3                                []  2018-05-17   \n",
       "4                                []  2018-03-09   \n",
       "...                             ...         ...   \n",
       "4635                             []  2018-06-09   \n",
       "4636                             []  2018-04-28   \n",
       "4637  ['Divina Nova Joy Dela Cruz']  2018-08-25   \n",
       "4638      ['Mary Gleefer F. Jalea']  2018-08-15   \n",
       "4639                  ['Pol Pinoy']  2018-01-05   \n",
       "\n",
       "                                                    URL            Source  \\\n",
       "0     https://news.mb.com.ph/2018/03/07/suicide-bomb...   Manila Bulletin   \n",
       "1     https://news.mb.com.ph/2018/01/30/duterte-appe...   Manila Bulletin   \n",
       "2     https://www.manilatimes.net/hospitals-blame-ph...      Manila Times   \n",
       "3     https://news.mb.com.ph/2018/05/17/un-palestini...   Manila Bulletin   \n",
       "4     https://news.mb.com.ph/2018/03/09/robredo-turn...   Manila Bulletin   \n",
       "...                                                 ...               ...   \n",
       "4635  https://news.mb.com.ph/2018/06/09/plan-to-dive...   Manila Bulletin   \n",
       "4636  https://news.mb.com.ph/2018/04/28/tens-of-thou...   Manila Bulletin   \n",
       "4637  https://www.manilatimes.net/luis-exits-but-mon...      Manila Times   \n",
       "4638  https://www.manilatimes.net/28000-families-aff...      Manila Times   \n",
       "4639  https://adobochronicles.com/2015/01/05/united-...  Adobo Chronicles   \n",
       "\n",
       "             Label  \n",
       "0         Credible  \n",
       "1         Credible  \n",
       "2         Credible  \n",
       "3         Credible  \n",
       "4         Credible  \n",
       "...            ...  \n",
       "4635      Credible  \n",
       "4636      Credible  \n",
       "4637      Credible  \n",
       "4638      Credible  \n",
       "4639  Not Credible  \n",
       "\n",
       "[4640 rows x 7 columns]"
      ]
     },
     "execution_count": 6,
     "metadata": {},
     "output_type": "execute_result"
    }
   ],
   "source": [
    "df = pd.read_csv(\"data/Philippine Fake News Corpus - cleaned.csv\")\n",
    "df"
   ]
  },
  {
   "cell_type": "code",
   "execution_count": 13,
   "id": "c1100619-3d47-4e9a-920e-c1526cdd4fcd",
   "metadata": {
    "colab": {
     "base_uri": "https://localhost:8080/",
     "height": 36
    },
    "executionInfo": {
     "elapsed": 305,
     "status": "ok",
     "timestamp": 1719485066334,
     "user": {
      "displayName": "Bea Carina Mae Reyes",
      "userId": "05152541789176508807"
     },
     "user_tz": -480
    },
    "id": "c1100619-3d47-4e9a-920e-c1526cdd4fcd",
    "outputId": "fbbce0d5-11e2-48c6-b6d5-d7c799f10219"
   },
   "outputs": [
    {
     "data": {
      "application/vnd.google.colaboratory.intrinsic+json": {
       "type": "string"
      },
      "text/plain": [
       "'Catherine A. Modesto'"
      ]
     },
     "execution_count": 13,
     "metadata": {},
     "output_type": "execute_result"
    }
   ],
   "source": [
    "from ast import literal_eval\n",
    "df['Authors'] = df['Authors'].apply(literal_eval)\n",
    "df['Authors'][2][0]"
   ]
  },
  {
   "cell_type": "code",
   "execution_count": 14,
   "id": "1c7d2734-cce2-47ac-8095-d9f7c3916d1c",
   "metadata": {
    "colab": {
     "base_uri": "https://localhost:8080/"
    },
    "executionInfo": {
     "elapsed": 331,
     "status": "ok",
     "timestamp": 1719485069487,
     "user": {
      "displayName": "Bea Carina Mae Reyes",
      "userId": "05152541789176508807"
     },
     "user_tz": -480
    },
    "id": "1c7d2734-cce2-47ac-8095-d9f7c3916d1c",
    "outputId": "f555e135-d4b8-44e5-ff1c-9ee636c6f902"
   },
   "outputs": [
    {
     "data": {
      "text/plain": [
       "['The Manila Times',\n",
       " 'Neil Alcober',\n",
       " 'Catherine Rampell',\n",
       " 'Ma. Reina Leanne Tolentino',\n",
       " 'Yvonne Fernandez',\n",
       " 'Jove Moya',\n",
       " 'Iza Iglesias',\n",
       " 'Neil Jayson Servallos',\n",
       " 'Jomar Canlas',\n",
       " 'Glee Jalea',\n",
       " 'James Konstantin Galvez',\n",
       " 'Reginan Kurt Ivan Abang',\n",
       " 'Javier J. Ismael',\n",
       " 'Benjie Vergara',\n",
       " 'Nelson Badilla',\n",
       " 'Bernadette E. Tamayo',\n",
       " 'Dempsey Reyes',\n",
       " 'Philippines News Agency',\n",
       " 'Francis Earl Cueto',\n",
       " 'Kenneth Hare Hernandez',\n",
       " 'Lisbet K. Esmael',\n",
       " 'Jaime Pilapil',\n",
       " 'Mayvelin U. Caraballo',\n",
       " 'Divina Nova Joy Dela Cruz',\n",
       " 'Ma. Lisbet K. Esmael',\n",
       " 'Al Jacinto',\n",
       " 'Ashley Jose',\n",
       " 'Eireene Jairee Gomez',\n",
       " 'Julmunir I. Jannaral',\n",
       " 'Kimberly Malait',\n",
       " 'Mt Admin',\n",
       " 'Leander C. Domingo',\n",
       " 'Dexter A. See',\n",
       " 'Roy Narra',\n",
       " 'Reicelene Joy Ignacio',\n",
       " 'Athena Lucasan',\n",
       " 'Aric John Sy Cua',\n",
       " 'Arlo Custodio',\n",
       " 'Jefferson Antiporda',\n",
       " 'Ralph Villanueva',\n",
       " 'Patrick Roxas',\n",
       " 'View All Posts Pinoytrending',\n",
       " 'Edwin U. Villanueva',\n",
       " 'William Jun Garcia',\n",
       " 'Mary Gleefer F. Jalea',\n",
       " 'Oratio Imperata',\n",
       " 'Jing Villamente',\n",
       " 'Ted Khan Juanite',\n",
       " 'Llanesca T. Panti',\n",
       " 'Catherine A. Modesto',\n",
       " 'William Depasupil',\n",
       " 'Alvin I. Dacanay',\n",
       " 'Ralph Daniel Crisostomo',\n",
       " 'Raadee S. Sausa',\n",
       " 'Agence France-Presse',\n",
       " 'Jerry N. Adlaw',\n",
       " 'Liezelle Roy',\n",
       " 'Josef T. Ramos',\n",
       " 'Jerry Hernandez',\n",
       " 'Rhaydz B. Barcia',\n",
       " 'Ed Velasco',\n",
       " 'Anna Leah E. Gonzales',\n",
       " 'Catherine S. Valente',\n",
       " 'Jordeene Sheex Lagare',\n",
       " 'Pol Pinoy']"
      ]
     },
     "execution_count": 14,
     "metadata": {},
     "output_type": "execute_result"
    }
   ],
   "source": [
    "import itertools\n",
    "authors = list(set(list(itertools.chain.from_iterable(df['Authors']))))\n",
    "authors"
   ]
  },
  {
   "cell_type": "code",
   "execution_count": null,
   "id": "589586c8-ba37-492b-a5fc-cd1d07b9036c",
   "metadata": {
    "colab": {
     "base_uri": "https://localhost:8080/"
    },
    "executionInfo": {
     "elapsed": 353,
     "status": "ok",
     "timestamp": 1719407991262,
     "user": {
      "displayName": "Bea Carina Mae Reyes",
      "userId": "05152541789176508807"
     },
     "user_tz": -480
    },
    "id": "589586c8-ba37-492b-a5fc-cd1d07b9036c",
    "outputId": "c7a4b7af-a0b1-4ae9-c9b3-4aaed4547fc2"
   },
   "outputs": [
    {
     "data": {
      "text/plain": [
       "['Manila Bulletin',\n",
       " 'Manila Times',\n",
       " 'Adobo Chronicles',\n",
       " 'Pinoytrending Altervista',\n",
       " 'Get Real Philippines',\n",
       " 'Duterte Daily Stories']"
      ]
     },
     "execution_count": 14,
     "metadata": {},
     "output_type": "execute_result"
    }
   ],
   "source": [
    "brands = (df['Source'].unique()).tolist()\n",
    "brands"
   ]
  },
  {
   "cell_type": "code",
   "execution_count": null,
   "id": "bf5e3769-67f0-4ed3-9464-09eb463abfde",
   "metadata": {
    "colab": {
     "base_uri": "https://localhost:8080/"
    },
    "executionInfo": {
     "elapsed": 311,
     "status": "ok",
     "timestamp": 1719407994350,
     "user": {
      "displayName": "Bea Carina Mae Reyes",
      "userId": "05152541789176508807"
     },
     "user_tz": -480
    },
    "id": "bf5e3769-67f0-4ed3-9464-09eb463abfde",
    "outputId": "995ad3ce-663d-47be-93e5-69f4d49da005"
   },
   "outputs": [
    {
     "name": "stdout",
     "output_type": "stream",
     "text": [
      "2018-01-01\n",
      "2018-11-16\n"
     ]
    }
   ],
   "source": [
    "print(df['Date'].min())\n",
    "print(df['Date'].max())"
   ]
  },
  {
   "cell_type": "code",
   "execution_count": null,
   "id": "84b15927-e3b9-4748-ba43-183e1cf7fee6",
   "metadata": {
    "colab": {
     "base_uri": "https://localhost:8080/"
    },
    "executionInfo": {
     "elapsed": 389,
     "status": "ok",
     "timestamp": 1719407996912,
     "user": {
      "displayName": "Bea Carina Mae Reyes",
      "userId": "05152541789176508807"
     },
     "user_tz": -480
    },
    "id": "84b15927-e3b9-4748-ba43-183e1cf7fee6",
    "outputId": "0b092c25-a19a-411e-b117-d72f56bdb53e"
   },
   "outputs": [
    {
     "data": {
      "text/plain": [
       "Label\n",
       "Credible        2967\n",
       "Not Credible    1673\n",
       "Name: count, dtype: int64"
      ]
     },
     "execution_count": 16,
     "metadata": {},
     "output_type": "execute_result"
    }
   ],
   "source": [
    "df['Label'].value_counts()"
   ]
  },
  {
   "cell_type": "code",
   "execution_count": null,
   "id": "0ALUwYYb7YTR",
   "metadata": {
    "id": "0ALUwYYb7YTR"
   },
   "outputs": [],
   "source": [
    "\n",
    "\n",
    "import pandas as pd\n",
    "import os\n",
    "import itertools\n",
    "from ast import literal_eval\n",
    "# print(os.getcwd())\n",
    "# os.chdir(r'C:\\Users\\bea.reyes\\Documents\\x')\n",
    "# df = pd.read_csv('Book1.csv')\n",
    "df['Authors'] = df['Authors'].apply(literal_eval)\n",
    "\n",
    "source_author_df = df[['Source', 'Authors']]\n",
    "source_author_df  = source_author_df.explode('Authors')\n",
    "source_author_df = source_author_df.drop_duplicates()\n",
    "sources = df['Source'].unique()\n",
    "\n",
    "source_author_df = source_author_df.sort_values(by = ['Authors'], ascending=True, na_position='last')\n",
    "source_author_df['Authors'] = source_author_df['Authors'].fillna(source_author_df['Source'] +\" (No Author)\")\n",
    "authors = source_author_df['Authors'].unique()\n",
    "\n",
    "\n",
    "\n",
    "# source_filter = ['A', 'B']\n",
    "authors_filtered = source_author_df[source_author_df['Source'].isin(source_filter)]\n",
    "authors_filtered = authors_filtered['Authors'].unique()\n",
    "\n",
    "\n",
    "\n",
    "df_source_count = df.groupby(['Source']).size().to_frame('article_count')\n",
    "df_source_count.sort_values(by = 'article_count', ascending = False)\n",
    "\n",
    "df_author_count = df.explode('Authors')\n",
    "df_author_count['Authors'] = df_author_count['Authors'].fillna(df_author_count['Source'] +\" (No Author)\")\n",
    "df_author_count = df_author_count.groupby(['Source','Authors']).size().to_frame('article_count')\n",
    "df_author_count.sort_values(by = 'article_count', ascending = False)\n",
    "\n",
    "\n",
    "# import streamlit as st\n",
    "# import altair as alt\n",
    "# from vega_datasets import data\n",
    "\n",
    "# # Load sample data (you can replace this with your own dataset)\n",
    "# source = data.cars()\n",
    "\n",
    "# # Create a horizontal bar chart with Altair\n",
    "# chart = alt.Chart(source).mark_bar().encode(\n",
    "#     x='Horsepower:Q',\n",
    "#     y=alt.Y('Name:N', sort='-x'),  # Sorting bars by Horsepower descending\n",
    "#     tooltip=['Name:N', 'Horsepower:Q', 'Year:N']  # Add 'Year' to tooltip\n",
    "# ).properties(\n",
    "#     width=600,  # Set width to make it scrollable\n",
    "#     height=alt.Step(20)  # Adjust height to control bar thickness\n",
    "# ).interactive()  # Enable interaction (e.g., tooltips)\n",
    "\n",
    "# # Display the chart using Altair's native rendering in Streamlit\n",
    "# st.write(chart)"
   ]
  },
  {
   "cell_type": "code",
   "execution_count": 32,
   "id": "f219beb2-f671-4b81-b065-3423a2e8e873",
   "metadata": {},
   "outputs": [
    {
     "data": {
      "text/html": [
       "<div>\n",
       "<style scoped>\n",
       "    .dataframe tbody tr th:only-of-type {\n",
       "        vertical-align: middle;\n",
       "    }\n",
       "\n",
       "    .dataframe tbody tr th {\n",
       "        vertical-align: top;\n",
       "    }\n",
       "\n",
       "    .dataframe thead th {\n",
       "        text-align: right;\n",
       "    }\n",
       "</style>\n",
       "<table border=\"1\" class=\"dataframe\">\n",
       "  <thead>\n",
       "    <tr style=\"text-align: right;\">\n",
       "      <th></th>\n",
       "      <th>Headline</th>\n",
       "      <th>Content</th>\n",
       "      <th>Authors</th>\n",
       "      <th>Date</th>\n",
       "      <th>URL</th>\n",
       "      <th>Source</th>\n",
       "      <th>Label</th>\n",
       "    </tr>\n",
       "  </thead>\n",
       "  <tbody>\n",
       "    <tr>\n",
       "      <th>0</th>\n",
       "      <td>Suicide bomber kills religious official in Afg...</td>\n",
       "      <td>A suicide bomber in the eastern Afghan city of...</td>\n",
       "      <td>[]</td>\n",
       "      <td>2018-03-07</td>\n",
       "      <td>https://news.mb.com.ph/2018/03/07/suicide-bomb...</td>\n",
       "      <td>Manila Bulletin</td>\n",
       "      <td>Credible</td>\n",
       "    </tr>\n",
       "    <tr>\n",
       "      <th>1</th>\n",
       "      <td>Duterte appeals to Marawi residents to help ke...</td>\n",
       "      <td>President Duterte has vowed adequate funds to ...</td>\n",
       "      <td>[]</td>\n",
       "      <td>2018-01-30</td>\n",
       "      <td>https://news.mb.com.ph/2018/01/30/duterte-appe...</td>\n",
       "      <td>Manila Bulletin</td>\n",
       "      <td>Credible</td>\n",
       "    </tr>\n",
       "    <tr>\n",
       "      <th>2</th>\n",
       "      <td>Hospitals blame PhilHealth anew</td>\n",
       "      <td>PRIVATE hospitals blamed the Philippine Health...</td>\n",
       "      <td>['Catherine A. Modesto']</td>\n",
       "      <td>2018-06-30</td>\n",
       "      <td>https://www.manilatimes.net/hospitals-blame-ph...</td>\n",
       "      <td>Manila Times</td>\n",
       "      <td>Credible</td>\n",
       "    </tr>\n",
       "    <tr>\n",
       "      <th>3</th>\n",
       "      <td>UN Palestinian refugee agency 'part of the pro...</td>\n",
       "      <td>PresseThe UN agency for Palestinian refugees i...</td>\n",
       "      <td>[]</td>\n",
       "      <td>2018-05-17</td>\n",
       "      <td>https://news.mb.com.ph/2018/05/17/un-palestini...</td>\n",
       "      <td>Manila Bulletin</td>\n",
       "      <td>Credible</td>\n",
       "    </tr>\n",
       "    <tr>\n",
       "      <th>4</th>\n",
       "      <td>Robredo turned over livelihood subsidies to ab...</td>\n",
       "      <td>Through Vice President Leni Robredo's Angat Bu...</td>\n",
       "      <td>[]</td>\n",
       "      <td>2018-03-09</td>\n",
       "      <td>https://news.mb.com.ph/2018/03/09/robredo-turn...</td>\n",
       "      <td>Manila Bulletin</td>\n",
       "      <td>Credible</td>\n",
       "    </tr>\n",
       "    <tr>\n",
       "      <th>...</th>\n",
       "      <td>...</td>\n",
       "      <td>...</td>\n",
       "      <td>...</td>\n",
       "      <td>...</td>\n",
       "      <td>...</td>\n",
       "      <td>...</td>\n",
       "      <td>...</td>\n",
       "    </tr>\n",
       "    <tr>\n",
       "      <th>4635</th>\n",
       "      <td>Plan to diversify elite NYC schools draws fire...</td>\n",
       "      <td>A plan to diversify New York City's most elite...</td>\n",
       "      <td>[]</td>\n",
       "      <td>2018-06-09</td>\n",
       "      <td>https://news.mb.com.ph/2018/06/09/plan-to-dive...</td>\n",
       "      <td>Manila Bulletin</td>\n",
       "      <td>Credible</td>\n",
       "    </tr>\n",
       "    <tr>\n",
       "      <th>4636</th>\n",
       "      <td>Tens of thousands protest in Spain over gang r...</td>\n",
       "      <td>PresseTens of thousands of people took to the ...</td>\n",
       "      <td>[]</td>\n",
       "      <td>2018-04-28</td>\n",
       "      <td>https://news.mb.com.ph/2018/04/28/tens-of-thou...</td>\n",
       "      <td>Manila Bulletin</td>\n",
       "      <td>Credible</td>\n",
       "    </tr>\n",
       "    <tr>\n",
       "      <th>4637</th>\n",
       "      <td>'Luis' exits but monsoon rains to continue</td>\n",
       "      <td>Tropical depression Luis blew out of the count...</td>\n",
       "      <td>['Divina Nova Joy Dela Cruz']</td>\n",
       "      <td>2018-08-25</td>\n",
       "      <td>https://www.manilatimes.net/luis-exits-but-mon...</td>\n",
       "      <td>Manila Times</td>\n",
       "      <td>Credible</td>\n",
       "    </tr>\n",
       "    <tr>\n",
       "      <th>4638</th>\n",
       "      <td>28,000 families affected by floods receive aid</td>\n",
       "      <td>A TOTAL of 132,259 individuals from 28,101 fam...</td>\n",
       "      <td>['Mary Gleefer F. Jalea']</td>\n",
       "      <td>2018-08-15</td>\n",
       "      <td>https://www.manilatimes.net/28000-families-aff...</td>\n",
       "      <td>Manila Times</td>\n",
       "      <td>Credible</td>\n",
       "    </tr>\n",
       "    <tr>\n",
       "      <th>4639</th>\n",
       "      <td>UNITED AIRLINES WILL OFFER 'ECONOMY MINUS' SEA...</td>\n",
       "      <td>for half the airfare.UNITED Airlines (UAL) sta...</td>\n",
       "      <td>['Pol Pinoy']</td>\n",
       "      <td>2018-01-05</td>\n",
       "      <td>https://adobochronicles.com/2015/01/05/united-...</td>\n",
       "      <td>Adobo Chronicles</td>\n",
       "      <td>Not Credible</td>\n",
       "    </tr>\n",
       "  </tbody>\n",
       "</table>\n",
       "<p>4640 rows × 7 columns</p>\n",
       "</div>"
      ],
      "text/plain": [
       "                                               Headline  \\\n",
       "0     Suicide bomber kills religious official in Afg...   \n",
       "1     Duterte appeals to Marawi residents to help ke...   \n",
       "2                       Hospitals blame PhilHealth anew   \n",
       "3     UN Palestinian refugee agency 'part of the pro...   \n",
       "4     Robredo turned over livelihood subsidies to ab...   \n",
       "...                                                 ...   \n",
       "4635  Plan to diversify elite NYC schools draws fire...   \n",
       "4636  Tens of thousands protest in Spain over gang r...   \n",
       "4637         'Luis' exits but monsoon rains to continue   \n",
       "4638     28,000 families affected by floods receive aid   \n",
       "4639  UNITED AIRLINES WILL OFFER 'ECONOMY MINUS' SEA...   \n",
       "\n",
       "                                                Content  \\\n",
       "0     A suicide bomber in the eastern Afghan city of...   \n",
       "1     President Duterte has vowed adequate funds to ...   \n",
       "2     PRIVATE hospitals blamed the Philippine Health...   \n",
       "3     PresseThe UN agency for Palestinian refugees i...   \n",
       "4     Through Vice President Leni Robredo's Angat Bu...   \n",
       "...                                                 ...   \n",
       "4635  A plan to diversify New York City's most elite...   \n",
       "4636  PresseTens of thousands of people took to the ...   \n",
       "4637  Tropical depression Luis blew out of the count...   \n",
       "4638  A TOTAL of 132,259 individuals from 28,101 fam...   \n",
       "4639  for half the airfare.UNITED Airlines (UAL) sta...   \n",
       "\n",
       "                            Authors        Date  \\\n",
       "0                                []  2018-03-07   \n",
       "1                                []  2018-01-30   \n",
       "2          ['Catherine A. Modesto']  2018-06-30   \n",
       "3                                []  2018-05-17   \n",
       "4                                []  2018-03-09   \n",
       "...                             ...         ...   \n",
       "4635                             []  2018-06-09   \n",
       "4636                             []  2018-04-28   \n",
       "4637  ['Divina Nova Joy Dela Cruz']  2018-08-25   \n",
       "4638      ['Mary Gleefer F. Jalea']  2018-08-15   \n",
       "4639                  ['Pol Pinoy']  2018-01-05   \n",
       "\n",
       "                                                    URL            Source  \\\n",
       "0     https://news.mb.com.ph/2018/03/07/suicide-bomb...   Manila Bulletin   \n",
       "1     https://news.mb.com.ph/2018/01/30/duterte-appe...   Manila Bulletin   \n",
       "2     https://www.manilatimes.net/hospitals-blame-ph...      Manila Times   \n",
       "3     https://news.mb.com.ph/2018/05/17/un-palestini...   Manila Bulletin   \n",
       "4     https://news.mb.com.ph/2018/03/09/robredo-turn...   Manila Bulletin   \n",
       "...                                                 ...               ...   \n",
       "4635  https://news.mb.com.ph/2018/06/09/plan-to-dive...   Manila Bulletin   \n",
       "4636  https://news.mb.com.ph/2018/04/28/tens-of-thou...   Manila Bulletin   \n",
       "4637  https://www.manilatimes.net/luis-exits-but-mon...      Manila Times   \n",
       "4638  https://www.manilatimes.net/28000-families-aff...      Manila Times   \n",
       "4639  https://adobochronicles.com/2015/01/05/united-...  Adobo Chronicles   \n",
       "\n",
       "             Label  \n",
       "0         Credible  \n",
       "1         Credible  \n",
       "2         Credible  \n",
       "3         Credible  \n",
       "4         Credible  \n",
       "...            ...  \n",
       "4635      Credible  \n",
       "4636      Credible  \n",
       "4637      Credible  \n",
       "4638      Credible  \n",
       "4639  Not Credible  \n",
       "\n",
       "[4640 rows x 7 columns]"
      ]
     },
     "execution_count": 32,
     "metadata": {},
     "output_type": "execute_result"
    }
   ],
   "source": [
    "import openai\n",
    "from openai import OpenAI\n",
    "from skllm.config import SKLLMConfig\n",
    "\n",
    "api_key = open('openaiapikey.txt').read()\n",
    "SKLLMConfig.set_openai_key(api_key)\n",
    "client = OpenAI(api_key=api_key)\n",
    "\n",
    "article = df\n",
    "article\n"
   ]
  },
  {
   "cell_type": "code",
   "execution_count": 150,
   "id": "3bff3e18-a8b2-46a7-b0ff-552adb5c70a3",
   "metadata": {},
   "outputs": [
    {
     "data": {
      "text/plain": [
       "'Article: Duterte appeals to Marawi residents to help keep rebellion out of Mindanao\\n\\nEntities and Sentiments:\\n1. Person: Duterte\\n   Sentiment: Positive\\n\\n2. Organization: Marawi residents\\n   Sentiment: Positive\\n\\n3. Organization: Mindanao\\n   Sentiment: Neutral'"
      ]
     },
     "execution_count": 150,
     "metadata": {},
     "output_type": "execute_result"
    }
   ],
   "source": [
    "def generate_response(content, prompt):\n",
    "    response = client.chat.completions.create(\n",
    "        model='gpt-3.5-turbo', \n",
    "        messages=[\n",
    "            {'role': 'system', \n",
    "             'content': \n",
    "             f\"Perform the specified tasks based on this article:\\n\\n{article}\"},\n",
    "            {'role': 'user', 'content': prompt}\n",
    "        ]\n",
    "    )\n",
    "    return response.choices[0].message.content\n",
    "\n",
    "def identify_entities(article):\n",
    "    prompt = f\"Identify only the person and organization entities mentioned in the article along with the article's sentiment on each mentioned entity (whether Positive, Neutral or Negative).\"\n",
    "    entity = generate_response(article, prompt)\n",
    "    return entity\n",
    "\n",
    "\n",
    "entity = identify_entities(article['Content'].values[0])\n",
    "entity\n"
   ]
  },
  {
   "cell_type": "code",
   "execution_count": 108,
   "id": "d5ef9779-ab5a-4edd-92d8-99f1fa474b6c",
   "metadata": {},
   "outputs": [
    {
     "data": {
      "text/plain": [
       "'A suicide bomber in the eastern Afghan city of Jalalabad killed a senior religious official and his bodyguard on Wednesday and wounded at least 11 people, officials said.The suicide bomber approached Abdul Zaher Haqqani, head of the Nangarhar provincial director of religious affairs and the Haj pilgrimage, and detonated his explosive vest, Ataullah Khogyani, the provincial governor\\'s spokesman, said.\"He was coming off a bridge when the attacker approached him and blew himself up close to his car,\" Khogyani added.There was no immediate claim of responsibility for the attack. Nangarhar, on the border with Pakistan, is a volatile province which has become one of the main bases for Islamic State militants who fight both the government and the Taliban.'"
      ]
     },
     "execution_count": 108,
     "metadata": {},
     "output_type": "execute_result"
    }
   ],
   "source": [
    "article['Content'].values[0]"
   ]
  },
  {
   "cell_type": "code",
   "execution_count": 198,
   "id": "222f4004-e48a-4c8c-8e2c-bbb78e939d5e",
   "metadata": {},
   "outputs": [
    {
     "data": {
      "text/plain": [
       "'suicide bomber, President Duterte, Marawi residents, Leni Robredo, PhilHealth, UN Palestinian refugee agency'"
      ]
     },
     "execution_count": 198,
     "metadata": {},
     "output_type": "execute_result"
    }
   ],
   "source": [
    "def identify_entities(article):\n",
    "    prompt = f\"\"\"\n",
    "    Return a list of persons and organization entities mentioned in the article\n",
    "        - Entities must be listed in a comma-separated list\n",
    "        - Return the list only. \n",
    "        - Example: Elon Musk,Rodrigo Duterte,PhilHealth\n",
    "\n",
    "    \"\"\"\n",
    "    entities = generate_response(article, prompt)\n",
    "    return entities\n",
    "        \n",
    "        \n",
    "entities"
   ]
  },
  {
   "cell_type": "code",
   "execution_count": 200,
   "id": "ce69cce1-6f17-4ab7-85e2-3cb5a5d1b130",
   "metadata": {},
   "outputs": [
    {
     "data": {
      "text/plain": [
       "['suicide bomber',\n",
       " 'President Duterte',\n",
       " 'Marawi residents',\n",
       " 'Leni Robredo',\n",
       " 'PhilHealth',\n",
       " 'UN Palestinian refugee agency']"
      ]
     },
     "execution_count": 200,
     "metadata": {},
     "output_type": "execute_result"
    }
   ],
   "source": [
    "entities = identify_entities(article['Content'].values[0])\n",
    "try:\n",
    "    entities_ = [ent.strip() for ent in entities.split(',')]\n",
    "except:\n",
    "    entities_ = entities\n",
    "entities_"
   ]
  },
  {
   "cell_type": "code",
   "execution_count": 240,
   "id": "f84fc1b1-4e00-4569-9868-6cade9670b23",
   "metadata": {},
   "outputs": [
    {
     "data": {
      "text/plain": [
       "'suicide bomber,NEGATIVE; President Duterte,POSITIVE; Marawi residents,POSITIVE; Leni Robredo,POSITIVE; PhilHealth,NEGATIVE; UN Palestinian refugee agency,NEUTRAL'"
      ]
     },
     "execution_count": 240,
     "metadata": {},
     "output_type": "execute_result"
    }
   ],
   "source": [
    "def identify_entity_sentiment(article, entities):\n",
    "    prompt = f\"\"\"\n",
    "    Identify the article's sentiment on each mentioned entity whether POSTITIVE, NEUTRAL or NEGATIVE:\\n\\n{entities}.\n",
    "        \n",
    "        - List them in a semi-colon-separated format along with their sentiment, POSTITIVE, NEUTRAL or NEGATIVE. \n",
    "        - Return List Only\n",
    "        - Example: Elon Musk,NEGATIVE; Rodrigo Duterte,POSITIVE; PhilHealth,'NEUTRAL'\n",
    "    \"\"\"\n",
    "    \n",
    "    \n",
    "    sentiment = generate_response(article, prompt)\n",
    "    return sentiment\n",
    "entity_sentiment = identify_entity_sentiment(article, entities)\n",
    "entity_sentiment\n"
   ]
  },
  {
   "cell_type": "code",
   "execution_count": 268,
   "id": "b3b9ee6b-7550-4517-a88d-51bcad95c0eb",
   "metadata": {},
   "outputs": [
    {
     "name": "stdout",
     "output_type": "stream",
     "text": [
      "[' President Duterte', ' Marawi residents', ' Leni Robredo']\n",
      "['suicide bomber', ' PhilHealth']\n",
      "[' UN Palestinian refugee agency']\n"
     ]
    }
   ],
   "source": [
    "# try:\n",
    "entity_positive = []\n",
    "entity_negative = []\n",
    "entity_neutral = []\n",
    "\n",
    "for ent_sen in entity_sentiment.split(';') :\n",
    "    for ent,sen in [ent_sen.split(',')]:\n",
    "        if sen == 'POSITIVE':\n",
    "            entity_positive = entity_positive + [ent]\n",
    "        elif sen == 'NEGATIVE':\n",
    "            entity_negative = entity_negative  + [ent]\n",
    "        else:\n",
    "            entity_neutral = entity_neutral  + [ent]\n",
    "\n",
    "print(entity_positive)\n",
    "print(entity_negative)\n",
    "print(entity_neutral)"
   ]
  },
  {
   "cell_type": "code",
   "execution_count": 210,
   "id": "d5d240b4-1eb3-4ffa-8332-c14142fe2f26",
   "metadata": {},
   "outputs": [
    {
     "ename": "TypeError",
     "evalue": "list indices must be integers or slices, not str",
     "output_type": "error",
     "traceback": [
      "\u001b[1;31m---------------------------------------------------------------------------\u001b[0m",
      "\u001b[1;31mTypeError\u001b[0m                                 Traceback (most recent call last)",
      "Cell \u001b[1;32mIn[210], line 1\u001b[0m\n\u001b[1;32m----> 1\u001b[0m entity_sentiments_[\u001b[38;5;124m'\u001b[39m\u001b[38;5;124msuicide bomber\u001b[39m\u001b[38;5;124m'\u001b[39m]\n",
      "\u001b[1;31mTypeError\u001b[0m: list indices must be integers or slices, not str"
     ]
    }
   ],
   "source": []
  }
 ],
 "metadata": {
  "colab": {
   "provenance": []
  },
  "kernelspec": {
   "display_name": "Python 3 (ipykernel)",
   "language": "python",
   "name": "python3"
  },
  "language_info": {
   "codemirror_mode": {
    "name": "ipython",
    "version": 3
   },
   "file_extension": ".py",
   "mimetype": "text/x-python",
   "name": "python",
   "nbconvert_exporter": "python",
   "pygments_lexer": "ipython3",
   "version": "3.11.7"
  }
 },
 "nbformat": 4,
 "nbformat_minor": 5
}
